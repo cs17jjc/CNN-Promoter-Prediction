{
 "cells": [
  {
   "cell_type": "code",
   "execution_count": 1,
   "metadata": {},
   "outputs": [
    {
     "data": {
      "text/html": [
       "<div>\n",
       "<style scoped>\n",
       "    .dataframe tbody tr th:only-of-type {\n",
       "        vertical-align: middle;\n",
       "    }\n",
       "\n",
       "    .dataframe tbody tr th {\n",
       "        vertical-align: top;\n",
       "    }\n",
       "\n",
       "    .dataframe thead th {\n",
       "        text-align: right;\n",
       "    }\n",
       "</style>\n",
       "<table border=\"1\" class=\"dataframe\">\n",
       "  <thead>\n",
       "    <tr style=\"text-align: right;\">\n",
       "      <th></th>\n",
       "      <th>Class</th>\n",
       "      <th>id</th>\n",
       "      <th>sequence</th>\n",
       "    </tr>\n",
       "  </thead>\n",
       "  <tbody>\n",
       "    <tr>\n",
       "      <th>0</th>\n",
       "      <td>+</td>\n",
       "      <td>S10</td>\n",
       "      <td>tactagcaatacgcttgcgttcggtggttaagtatgtataatgcgc...</td>\n",
       "    </tr>\n",
       "    <tr>\n",
       "      <th>1</th>\n",
       "      <td>+</td>\n",
       "      <td>AMPC</td>\n",
       "      <td>tgctatcctgacagttgtcacgctgattggtgtcgttacaatctaa...</td>\n",
       "    </tr>\n",
       "    <tr>\n",
       "      <th>2</th>\n",
       "      <td>+</td>\n",
       "      <td>AROH</td>\n",
       "      <td>gtactagagaactagtgcattagcttatttttttgttatcatgcta...</td>\n",
       "    </tr>\n",
       "    <tr>\n",
       "      <th>3</th>\n",
       "      <td>+</td>\n",
       "      <td>DEOP2</td>\n",
       "      <td>aattgtgatgtgtatcgaagtgtgttgcggagtagatgttagaata...</td>\n",
       "    </tr>\n",
       "    <tr>\n",
       "      <th>4</th>\n",
       "      <td>+</td>\n",
       "      <td>LEU1_TRNA</td>\n",
       "      <td>tcgataattaactattgacgaaaagctgaaaaccactagaatgcgc...</td>\n",
       "    </tr>\n",
       "  </tbody>\n",
       "</table>\n",
       "</div>"
      ],
      "text/plain": [
       "  Class         id                                           sequence\n",
       "0     +        S10  tactagcaatacgcttgcgttcggtggttaagtatgtataatgcgc...\n",
       "1     +       AMPC  tgctatcctgacagttgtcacgctgattggtgtcgttacaatctaa...\n",
       "2     +       AROH  gtactagagaactagtgcattagcttatttttttgttatcatgcta...\n",
       "3     +      DEOP2  aattgtgatgtgtatcgaagtgtgttgcggagtagatgttagaata...\n",
       "4     +  LEU1_TRNA  tcgataattaactattgacgaaaagctgaaaaccactagaatgcgc..."
      ]
     },
     "execution_count": 1,
     "metadata": {},
     "output_type": "execute_result"
    }
   ],
   "source": [
    "import numpy as np\n",
    "import pandas as pd\n",
    "import matplotlib.pyplot as plt\n",
    "from sklearn.feature_extraction.text import CountVectorizer\n",
    "from sklearn.model_selection import train_test_split\n",
    "import tensorflow as tf\n",
    "\n",
    "def getKmers(sequence, size=3):\n",
    "    return [sequence[x:x+size].lower() for x in range(len(sequence) - size + 1)]\n",
    "\n",
    "names = ['Class', 'id', 'sequenceRaw']\n",
    "data = pd.read_csv('https://archive.ics.uci.edu/ml/machine-learning-databases/molecular-biology/promoter-gene-sequences/promoters.data',names = names)\n",
    "\n",
    "sequences = list(data['sequenceRaw'])\n",
    "dataset = np.array([])\n",
    "\n",
    "for seq in sequences:\n",
    "    dataset = np.append(dataset,''.join(seq.split()))\n",
    "    \n",
    "data['sequence'] = dataset\n",
    "data = data.drop(['sequenceRaw'], axis=1)\n",
    "data.head()"
   ]
  },
  {
   "cell_type": "code",
   "execution_count": 2,
   "metadata": {},
   "outputs": [
    {
     "data": {
      "image/png": "[encoded data removed]",
      "text/plain": [
       "<Figure size 432x288 with 1 Axes>"
      ]
     },
     "metadata": {
      "needs_background": "light"
     },
     "output_type": "display_data"
    }
   ],
   "source": [
    "data['Class'].value_counts().plot(kind='bar');"
   ]
  },
  {
   "cell_type": "code",
   "execution_count": 3,
   "metadata": {},
   "outputs": [],
   "source": [
    "data['words'] = data.apply(lambda x: ' '.join(getKmers(x['sequence'])), axis=1)\n",
    "vectorizer = CountVectorizer(ngram_range=(0, 1))\n",
    "X = vectorizer.fit_transform(data['words'])"
   ]
  },
  {
   "cell_type": "code",
   "execution_count": 4,
   "metadata": {},
   "outputs": [
    {
     "data": {
      "image/png": "[encoded data removed]",
      "text/plain": [
       "<Figure size 1296x576 with 1 Axes>"
      ]
     },
     "metadata": {
      "needs_background": "light"
     },
     "output_type": "display_data"
    }
   ],
   "source": [
    "kmerDistributions = np.zeros(len(vectorizer.get_feature_names()))\n",
    "for v in X.toarray():\n",
    "    for i in range(0,v.shape[0]):\n",
    "        kmerDistributions[i] += v[i]\n",
    "        \n",
    "x_pos = [i for i, _ in enumerate(kmerDistributions)]\n",
    "\n",
    "plt.figure(figsize=(18,8))\n",
    "plt.bar(x_pos, kmerDistributions, color='green')\n",
    "plt.xlabel(\"Kmer\")\n",
    "plt.ylabel(\"Count\")\n",
    "plt.xticks(x_pos, vectorizer.get_feature_names())\n",
    "plt.show()"
   ]
  },
  {
   "cell_type": "code",
   "execution_count": 5,
   "metadata": {},
   "outputs": [],
   "source": [
    "classes = np.array([])\n",
    "for s in data['Class']:\n",
    "    if s == '+':\n",
    "        classes = np.append(classes,0)\n",
    "    else:\n",
    "        classes = np.append(classes,1)\n",
    "classes = tf.keras.utils.to_categorical(classes)"
   ]
  },
  {
   "cell_type": "code",
   "execution_count": 6,
   "metadata": {},
   "outputs": [
    {
     "name": "stdout",
     "output_type": "stream",
     "text": [
      "Model: \"sequential\"\n",
      "_________________________________________________________________\n",
      "Layer (type)                 Output Shape              Param #   \n",
      "=================================================================\n",
      "dense (Dense)                (None, 64)                4160      \n",
      "_________________________________________________________________\n",
      "dense_1 (Dense)              (None, 32)                2080      \n",
      "_________________________________________________________________\n",
      "dropout (Dropout)            (None, 32)                0         \n",
      "_________________________________________________________________\n",
      "dense_2 (Dense)              (None, 16)                528       \n",
      "_________________________________________________________________\n",
      "dropout_1 (Dropout)          (None, 16)                0         \n",
      "_________________________________________________________________\n",
      "dense_3 (Dense)              (None, 8)                 136       \n",
      "_________________________________________________________________\n",
      "dense_4 (Dense)              (None, 2)                 18        \n",
      "=================================================================\n",
      "Total params: 6,922\n",
      "Trainable params: 6,922\n",
      "Non-trainable params: 0\n",
      "_________________________________________________________________\n"
     ]
    }
   ],
   "source": [
    "model = tf.keras.Sequential()\n",
    "model.add(tf.keras.layers.Dense(64, input_shape=(X.shape[1],)))\n",
    "model.add(tf.keras.layers.Dense(32,activation='relu'))\n",
    "model.add(tf.keras.layers.Dropout(0.2))\n",
    "model.add(tf.keras.layers.Dense(16,activation='relu'))\n",
    "model.add(tf.keras.layers.Dropout(0.2))\n",
    "model.add(tf.keras.layers.Dense(8,activation='relu'))\n",
    "model.add(tf.keras.layers.Dense(classes.shape[1],activation='softmax'))\n",
    "model.summary()\n",
    "model.compile(optimizer='adam',loss='categorical_crossentropy',metrics=['accuracy'])"
   ]
  },
  {
   "cell_type": "code",
   "execution_count": 7,
   "metadata": {},
   "outputs": [
    {
     "name": "stdout",
     "output_type": "stream",
     "text": [
      "Epoch 1/50\n",
      "21/21 [==============================] - 1s 69ms/step - loss: 0.6978 - accuracy: 0.6071 - val_loss: 0.8991 - val_accuracy: 0.2727\n",
      "Epoch 2/50\n",
      "21/21 [==============================] - 0s 19ms/step - loss: 0.5545 - accuracy: 0.6786 - val_loss: 0.9828 - val_accuracy: 0.3636\n",
      "Epoch 3/50\n",
      "21/21 [==============================] - 0s 19ms/step - loss: 0.4382 - accuracy: 0.8095 - val_loss: 1.0390 - val_accuracy: 0.4091\n",
      "Epoch 4/50\n",
      "21/21 [==============================] - 0s 19ms/step - loss: 0.4146 - accuracy: 0.7976 - val_loss: 0.8887 - val_accuracy: 0.7273\n",
      "Epoch 5/50\n",
      "21/21 [==============================] - 0s 18ms/step - loss: 0.3060 - accuracy: 0.9048 - val_loss: 1.0627 - val_accuracy: 0.7273\n",
      "Epoch 6/50\n",
      "21/21 [==============================] - 0s 20ms/step - loss: 0.3131 - accuracy: 0.8690 - val_loss: 1.0170 - val_accuracy: 0.7273\n",
      "Epoch 7/50\n",
      "21/21 [==============================] - 0s 19ms/step - loss: 0.1908 - accuracy: 0.9286 - val_loss: 1.2482 - val_accuracy: 0.7273\n",
      "Epoch 8/50\n",
      "21/21 [==============================] - 0s 19ms/step - loss: 0.1357 - accuracy: 0.9643 - val_loss: 1.3913 - val_accuracy: 0.7273\n",
      "Epoch 9/50\n",
      "21/21 [==============================] - 0s 20ms/step - loss: 0.1052 - accuracy: 0.9762 - val_loss: 1.3293 - val_accuracy: 0.7727\n",
      "Epoch 10/50\n",
      "21/21 [==============================] - 0s 19ms/step - loss: 0.0830 - accuracy: 0.9643 - val_loss: 1.5377 - val_accuracy: 0.7273\n",
      "Epoch 11/50\n",
      "21/21 [==============================] - 0s 19ms/step - loss: 0.0667 - accuracy: 0.9762 - val_loss: 1.5836 - val_accuracy: 0.7273\n",
      "Epoch 12/50\n",
      "21/21 [==============================] - 0s 19ms/step - loss: 0.0633 - accuracy: 0.9881 - val_loss: 1.5539 - val_accuracy: 0.7273\n",
      "Epoch 13/50\n",
      "21/21 [==============================] - 0s 19ms/step - loss: 0.0523 - accuracy: 0.9881 - val_loss: 1.7527 - val_accuracy: 0.7727\n",
      "Epoch 14/50\n",
      "21/21 [==============================] - 0s 19ms/step - loss: 0.0256 - accuracy: 1.0000 - val_loss: 1.8763 - val_accuracy: 0.7273\n",
      "Epoch 15/50\n",
      "21/21 [==============================] - 0s 19ms/step - loss: 0.0255 - accuracy: 1.0000 - val_loss: 1.9241 - val_accuracy: 0.7727\n",
      "Epoch 16/50\n",
      "21/21 [==============================] - 0s 20ms/step - loss: 0.0251 - accuracy: 1.0000 - val_loss: 2.2571 - val_accuracy: 0.7273\n",
      "Epoch 17/50\n",
      "21/21 [==============================] - 0s 18ms/step - loss: 0.0233 - accuracy: 0.9881 - val_loss: 2.2668 - val_accuracy: 0.7273\n",
      "Epoch 18/50\n",
      "21/21 [==============================] - 0s 19ms/step - loss: 0.0144 - accuracy: 1.0000 - val_loss: 2.1581 - val_accuracy: 0.7273\n",
      "Epoch 19/50\n",
      "21/21 [==============================] - 0s 19ms/step - loss: 0.0198 - accuracy: 1.0000 - val_loss: 2.2632 - val_accuracy: 0.7273\n",
      "Epoch 20/50\n",
      "21/21 [==============================] - 0s 20ms/step - loss: 0.0158 - accuracy: 1.0000 - val_loss: 2.6204 - val_accuracy: 0.7273\n",
      "Epoch 21/50\n",
      "21/21 [==============================] - 0s 19ms/step - loss: 0.0137 - accuracy: 1.0000 - val_loss: 2.6430 - val_accuracy: 0.7273\n",
      "Epoch 22/50\n",
      "21/21 [==============================] - 0s 20ms/step - loss: 0.0098 - accuracy: 1.0000 - val_loss: 2.3593 - val_accuracy: 0.7273\n",
      "Epoch 23/50\n",
      "21/21 [==============================] - 0s 20ms/step - loss: 0.0269 - accuracy: 0.9881 - val_loss: 2.0286 - val_accuracy: 0.7727\n",
      "Epoch 24/50\n",
      "21/21 [==============================] - 0s 19ms/step - loss: 0.0151 - accuracy: 1.0000 - val_loss: 2.3982 - val_accuracy: 0.7273\n",
      "Epoch 25/50\n",
      "21/21 [==============================] - 0s 19ms/step - loss: 0.0106 - accuracy: 1.0000 - val_loss: 2.6054 - val_accuracy: 0.7273\n",
      "Epoch 26/50\n",
      "21/21 [==============================] - 0s 19ms/step - loss: 0.0243 - accuracy: 0.9881 - val_loss: 2.4779 - val_accuracy: 0.7727\n",
      "Epoch 27/50\n",
      "21/21 [==============================] - 0s 19ms/step - loss: 0.0053 - accuracy: 1.0000 - val_loss: 3.0748 - val_accuracy: 0.7273\n",
      "Epoch 28/50\n",
      "21/21 [==============================] - 0s 18ms/step - loss: 0.0122 - accuracy: 1.0000 - val_loss: 2.8049 - val_accuracy: 0.7273\n",
      "Epoch 29/50\n",
      "21/21 [==============================] - 0s 20ms/step - loss: 0.0071 - accuracy: 1.0000 - val_loss: 2.7390 - val_accuracy: 0.7273\n",
      "Epoch 30/50\n",
      "21/21 [==============================] - 0s 19ms/step - loss: 0.0076 - accuracy: 1.0000 - val_loss: 2.6529 - val_accuracy: 0.7727\n",
      "Epoch 31/50\n",
      "21/21 [==============================] - 0s 19ms/step - loss: 0.0072 - accuracy: 1.0000 - val_loss: 3.2570 - val_accuracy: 0.7273\n",
      "Epoch 32/50\n",
      "21/21 [==============================] - 0s 20ms/step - loss: 0.0026 - accuracy: 1.0000 - val_loss: 3.1478 - val_accuracy: 0.7273\n",
      "Epoch 33/50\n",
      "21/21 [==============================] - 0s 19ms/step - loss: 0.0207 - accuracy: 0.9881 - val_loss: 2.7085 - val_accuracy: 0.7727\n",
      "Epoch 34/50\n",
      "21/21 [==============================] - 0s 19ms/step - loss: 0.0081 - accuracy: 1.0000 - val_loss: 2.4272 - val_accuracy: 0.7727\n",
      "Epoch 35/50\n",
      "21/21 [==============================] - 0s 19ms/step - loss: 0.0105 - accuracy: 1.0000 - val_loss: 3.5813 - val_accuracy: 0.7273\n",
      "Epoch 36/50\n",
      "21/21 [==============================] - 1s 64ms/step - loss: 0.0438 - accuracy: 0.9881 - val_loss: 1.7954 - val_accuracy: 0.8182\n",
      "Epoch 37/50\n",
      "21/21 [==============================] - 0s 20ms/step - loss: 0.0399 - accuracy: 0.9881 - val_loss: 3.0616 - val_accuracy: 0.7273\n",
      "Epoch 38/50\n",
      "21/21 [==============================] - 0s 19ms/step - loss: 0.0219 - accuracy: 0.9881 - val_loss: 2.9354 - val_accuracy: 0.7273\n",
      "Epoch 39/50\n",
      "21/21 [==============================] - 0s 19ms/step - loss: 0.0179 - accuracy: 1.0000 - val_loss: 2.3781 - val_accuracy: 0.7273\n",
      "Epoch 40/50\n",
      "21/21 [==============================] - 0s 19ms/step - loss: 0.0093 - accuracy: 1.0000 - val_loss: 3.3990 - val_accuracy: 0.7273\n",
      "Epoch 41/50\n",
      "21/21 [==============================] - 0s 19ms/step - loss: 0.0140 - accuracy: 1.0000 - val_loss: 3.5945 - val_accuracy: 0.7273\n",
      "Epoch 42/50\n",
      "21/21 [==============================] - 0s 19ms/step - loss: 0.0051 - accuracy: 1.0000 - val_loss: 3.5092 - val_accuracy: 0.7273\n",
      "Epoch 43/50\n",
      "21/21 [==============================] - 0s 19ms/step - loss: 0.0012 - accuracy: 1.0000 - val_loss: 3.4569 - val_accuracy: 0.7273\n",
      "Epoch 44/50\n",
      "21/21 [==============================] - 0s 19ms/step - loss: 5.2978e-04 - accuracy: 1.0000 - val_loss: 3.4501 - val_accuracy: 0.7273\n",
      "Epoch 45/50\n",
      "21/21 [==============================] - 0s 19ms/step - loss: 0.0065 - accuracy: 1.0000 - val_loss: 3.2385 - val_accuracy: 0.7273\n",
      "Epoch 46/50\n",
      "21/21 [==============================] - 0s 20ms/step - loss: 0.0033 - accuracy: 1.0000 - val_loss: 3.4335 - val_accuracy: 0.7273\n",
      "Epoch 47/50\n",
      "21/21 [==============================] - 0s 19ms/step - loss: 0.0022 - accuracy: 1.0000 - val_loss: 3.5105 - val_accuracy: 0.7273\n",
      "Epoch 48/50\n",
      "21/21 [==============================] - 0s 20ms/step - loss: 6.2533e-04 - accuracy: 1.0000 - val_loss: 3.5173 - val_accuracy: 0.7273\n",
      "Epoch 49/50\n",
      "21/21 [==============================] - 0s 20ms/step - loss: 0.0014 - accuracy: 1.0000 - val_loss: 3.5165 - val_accuracy: 0.7273\n",
      "Epoch 50/50\n",
      "21/21 [==============================] - 0s 18ms/step - loss: 0.0017 - accuracy: 1.0000 - val_loss: 3.5104 - val_accuracy: 0.7273\n"
     ]
    },
    {
     "data": {
      "text/plain": [
       "<tensorflow.python.keras.callbacks.History at 0x7ef038a2b0>"
      ]
     },
     "execution_count": 7,
     "metadata": {},
     "output_type": "execute_result"
    }
   ],
   "source": [
    "model.fit(X.toarray(),classes,batch_size = 4,epochs=50,validation_split=0.2)"
   ]
  }
 ],
 "metadata": {
  "kernelspec": {
   "display_name": "Python 3",
   "language": "python",
   "name": "python3"
  },
  "language_info": {
   "codemirror_mode": {
    "name": "ipython",
    "version": 3
   },
   "file_extension": ".py",
   "mimetype": "text/x-python",
   "name": "python",
   "nbconvert_exporter": "python",
   "pygments_lexer": "ipython3",
   "version": "3.6.9"
  }
 },
 "nbformat": 4,
 "nbformat_minor": 4
}
